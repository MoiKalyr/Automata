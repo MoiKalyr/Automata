{
 "cells": [
  {
   "cell_type": "markdown",
   "id": "7b4486a9",
   "metadata": {},
   "source": [
    "Write a program that reverses all letters of each word in a string. For example, input “I LOVE AUTOMATA” yields output “I EVOL ATAMOTUA”."
   ]
  },
  {
   "cell_type": "code",
   "execution_count": null,
   "id": "f85e7f61",
   "metadata": {},
   "outputs": [
    {
     "name": "stdout",
     "output_type": "stream",
     "text": [
      "I EVOL ATAMOTUA\n"
     ]
    }
   ],
   "source": [
    "def reverse_words(input_string):\n",
    "    words = input_string.split()\n",
    "\n",
    "    reversed_words = [word[::-1] for word in words]\n",
    "\n",
    "    result = ' '.join(reversed_words)\n",
    "    \n",
    "    return result\n",
    "\n",
    "input_string = \"I LOVE AUTOMATA\"\n",
    "output_string = reverse_words(input_string)\n",
    "print(output_string)"
   ]
  },
  {
   "cell_type": "markdown",
   "id": "d9843105",
   "metadata": {},
   "source": [
    "if you want to input your own sentence"
   ]
  },
  {
   "cell_type": "code",
   "execution_count": 2,
   "id": "b3f26d8d",
   "metadata": {},
   "outputs": [
    {
     "name": "stdout",
     "output_type": "stream",
     "text": [
      "Reversed words: \n"
     ]
    }
   ],
   "source": [
    "def reverse_words(input_string):\n",
    "    words = input_string.split()\n",
    "    reversed_words = [word[::-1] for word in words]\n",
    "    result = ' '.join(reversed_words)\n",
    "    return result\n",
    "\n",
    "# Allow user to input their own sentence\n",
    "input_string = input(\"Enter a sentence: \")\n",
    "output_string = reverse_words(input_string)\n",
    "print(\"Reversed words:\", output_string)\n"
   ]
  }
 ],
 "metadata": {
  "kernelspec": {
   "display_name": "Python 3",
   "language": "python",
   "name": "python3"
  },
  "language_info": {
   "codemirror_mode": {
    "name": "ipython",
    "version": 3
   },
   "file_extension": ".py",
   "mimetype": "text/x-python",
   "name": "python",
   "nbconvert_exporter": "python",
   "pygments_lexer": "ipython3",
   "version": "3.11.5"
  }
 },
 "nbformat": 4,
 "nbformat_minor": 5
}
